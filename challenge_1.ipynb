{
 "cells": [
  {
   "cell_type": "code",
   "execution_count": 1,
   "id": "israeli-convertible",
   "metadata": {},
   "outputs": [],
   "source": [
    "import pandas as pd\n",
    "import matplotlib.pyplot as plt\n",
    "import numpy as np\n",
    "import re"
   ]
  },
  {
   "cell_type": "code",
   "execution_count": 2,
   "id": "romantic-consortium",
   "metadata": {},
   "outputs": [],
   "source": [
    "data=pd.read_excel('National_Carbon_Emissions_2021v0.4.xlsx', sheet_name='Territorial Emissions', \\\n",
    "                  skiprows=11)"
   ]
  },
  {
   "cell_type": "code",
   "execution_count": 3,
   "id": "flying-beauty",
   "metadata": {},
   "outputs": [],
   "source": [
    "data=pd.read_csv('../NYC_Wi-Fi_Hotspot_Locations.csv')"
   ]
  },
  {
   "cell_type": "code",
   "execution_count": 4,
   "id": "manufactured-bibliography",
   "metadata": {},
   "outputs": [
    {
     "data": {
      "text/html": [
       "<div>\n",
       "<style scoped>\n",
       "    .dataframe tbody tr th:only-of-type {\n",
       "        vertical-align: middle;\n",
       "    }\n",
       "\n",
       "    .dataframe tbody tr th {\n",
       "        vertical-align: top;\n",
       "    }\n",
       "\n",
       "    .dataframe thead th {\n",
       "        text-align: right;\n",
       "    }\n",
       "</style>\n",
       "<table border=\"1\" class=\"dataframe\">\n",
       "  <thead>\n",
       "    <tr style=\"text-align: right;\">\n",
       "      <th></th>\n",
       "      <th>OBJECTID</th>\n",
       "      <th>Borough</th>\n",
       "      <th>Type</th>\n",
       "      <th>Provider</th>\n",
       "      <th>Name</th>\n",
       "      <th>Location</th>\n",
       "      <th>Latitude</th>\n",
       "      <th>Longitude</th>\n",
       "      <th>X</th>\n",
       "      <th>Y</th>\n",
       "      <th>...</th>\n",
       "      <th>Neighborhood Tabulation Area (NTA)</th>\n",
       "      <th>Council Distrcit</th>\n",
       "      <th>Postcode</th>\n",
       "      <th>BoroCD</th>\n",
       "      <th>Census Tract</th>\n",
       "      <th>BCTCB2010</th>\n",
       "      <th>BIN</th>\n",
       "      <th>BBL</th>\n",
       "      <th>DOITT_ID</th>\n",
       "      <th>Location (Lat, Long)</th>\n",
       "    </tr>\n",
       "  </thead>\n",
       "  <tbody>\n",
       "    <tr>\n",
       "      <th>0</th>\n",
       "      <td>10604</td>\n",
       "      <td>4</td>\n",
       "      <td>Limited Free</td>\n",
       "      <td>SPECTRUM</td>\n",
       "      <td>Baisley Pond Park</td>\n",
       "      <td>Park Perimeter</td>\n",
       "      <td>40.674860</td>\n",
       "      <td>-73.784120</td>\n",
       "      <td>1.044132e+06</td>\n",
       "      <td>185219.892077</td>\n",
       "      <td>...</td>\n",
       "      <td>Springfield Gardens North</td>\n",
       "      <td>28</td>\n",
       "      <td>11434</td>\n",
       "      <td>412</td>\n",
       "      <td>294</td>\n",
       "      <td>294</td>\n",
       "      <td>0</td>\n",
       "      <td>0</td>\n",
       "      <td>1408</td>\n",
       "      <td>(40.6748599999, -73.7841200005)</td>\n",
       "    </tr>\n",
       "    <tr>\n",
       "      <th>1</th>\n",
       "      <td>10555</td>\n",
       "      <td>4</td>\n",
       "      <td>Limited Free</td>\n",
       "      <td>SPECTRUM</td>\n",
       "      <td>Kissena Park</td>\n",
       "      <td>Park Perimeter</td>\n",
       "      <td>40.747560</td>\n",
       "      <td>-73.818150</td>\n",
       "      <td>1.034638e+06</td>\n",
       "      <td>211685.217755</td>\n",
       "      <td>...</td>\n",
       "      <td>Flushing</td>\n",
       "      <td>20</td>\n",
       "      <td>11355</td>\n",
       "      <td>407</td>\n",
       "      <td>845</td>\n",
       "      <td>845</td>\n",
       "      <td>0</td>\n",
       "      <td>0</td>\n",
       "      <td>1359</td>\n",
       "      <td>(40.7475599996, -73.8181499997)</td>\n",
       "    </tr>\n",
       "    <tr>\n",
       "      <th>2</th>\n",
       "      <td>12370</td>\n",
       "      <td>3</td>\n",
       "      <td>Free</td>\n",
       "      <td>Transit Wireless</td>\n",
       "      <td>Grand St (L)</td>\n",
       "      <td>Grand St (L)</td>\n",
       "      <td>40.711926</td>\n",
       "      <td>-73.940670</td>\n",
       "      <td>1.000698e+06</td>\n",
       "      <td>198655.908840</td>\n",
       "      <td>...</td>\n",
       "      <td>East Williamsburg</td>\n",
       "      <td>34</td>\n",
       "      <td>11206</td>\n",
       "      <td>301</td>\n",
       "      <td>495</td>\n",
       "      <td>495</td>\n",
       "      <td>0</td>\n",
       "      <td>0</td>\n",
       "      <td>1699</td>\n",
       "      <td>(40.7119259997, -73.9406699994)</td>\n",
       "    </tr>\n",
       "    <tr>\n",
       "      <th>3</th>\n",
       "      <td>9893</td>\n",
       "      <td>3</td>\n",
       "      <td>Free</td>\n",
       "      <td>Downtown Brooklyn</td>\n",
       "      <td>NaN</td>\n",
       "      <td>125 Court St.</td>\n",
       "      <td>40.689985</td>\n",
       "      <td>-73.991995</td>\n",
       "      <td>9.864700e+05</td>\n",
       "      <td>190656.680416</td>\n",
       "      <td>...</td>\n",
       "      <td>Brooklyn Heights-Cobble Hill</td>\n",
       "      <td>33</td>\n",
       "      <td>11201</td>\n",
       "      <td>302</td>\n",
       "      <td>9</td>\n",
       "      <td>9</td>\n",
       "      <td>3388736</td>\n",
       "      <td>3002777501</td>\n",
       "      <td>298</td>\n",
       "      <td>(40.6899850001, -73.9919950004)</td>\n",
       "    </tr>\n",
       "    <tr>\n",
       "      <th>4</th>\n",
       "      <td>10169</td>\n",
       "      <td>1</td>\n",
       "      <td>Free</td>\n",
       "      <td>Transit Wireless</td>\n",
       "      <td>Lexington Av-63 St (F)</td>\n",
       "      <td>Lexington Av-63 St (F)</td>\n",
       "      <td>40.764630</td>\n",
       "      <td>-73.966115</td>\n",
       "      <td>9.936366e+05</td>\n",
       "      <td>217853.888161</td>\n",
       "      <td>...</td>\n",
       "      <td>Upper East Side-Carnegie Hill</td>\n",
       "      <td>4</td>\n",
       "      <td>10065</td>\n",
       "      <td>108</td>\n",
       "      <td>120</td>\n",
       "      <td>120</td>\n",
       "      <td>0</td>\n",
       "      <td>0</td>\n",
       "      <td>599</td>\n",
       "      <td>(40.7646300002, -73.9661150001)</td>\n",
       "    </tr>\n",
       "  </tbody>\n",
       "</table>\n",
       "<p>5 rows × 29 columns</p>\n",
       "</div>"
      ],
      "text/plain": [
       "   OBJECTID  Borough          Type           Provider                    Name  \\\n",
       "0     10604        4  Limited Free           SPECTRUM       Baisley Pond Park   \n",
       "1     10555        4  Limited Free           SPECTRUM            Kissena Park   \n",
       "2     12370        3          Free   Transit Wireless            Grand St (L)   \n",
       "3      9893        3          Free  Downtown Brooklyn                     NaN   \n",
       "4     10169        1          Free   Transit Wireless  Lexington Av-63 St (F)   \n",
       "\n",
       "                 Location   Latitude  Longitude             X              Y  \\\n",
       "0          Park Perimeter  40.674860 -73.784120  1.044132e+06  185219.892077   \n",
       "1          Park Perimeter  40.747560 -73.818150  1.034638e+06  211685.217755   \n",
       "2            Grand St (L)  40.711926 -73.940670  1.000698e+06  198655.908840   \n",
       "3           125 Court St.  40.689985 -73.991995  9.864700e+05  190656.680416   \n",
       "4  Lexington Av-63 St (F)  40.764630 -73.966115  9.936366e+05  217853.888161   \n",
       "\n",
       "   ... Neighborhood Tabulation Area (NTA) Council Distrcit Postcode BoroCD  \\\n",
       "0  ...          Springfield Gardens North               28    11434    412   \n",
       "1  ...                           Flushing               20    11355    407   \n",
       "2  ...                  East Williamsburg               34    11206    301   \n",
       "3  ...       Brooklyn Heights-Cobble Hill               33    11201    302   \n",
       "4  ...      Upper East Side-Carnegie Hill                4    10065    108   \n",
       "\n",
       "  Census Tract BCTCB2010      BIN         BBL DOITT_ID  \\\n",
       "0          294       294        0           0     1408   \n",
       "1          845       845        0           0     1359   \n",
       "2          495       495        0           0     1699   \n",
       "3            9         9  3388736  3002777501      298   \n",
       "4          120       120        0           0      599   \n",
       "\n",
       "              Location (Lat, Long)  \n",
       "0  (40.6748599999, -73.7841200005)  \n",
       "1  (40.7475599996, -73.8181499997)  \n",
       "2  (40.7119259997, -73.9406699994)  \n",
       "3  (40.6899850001, -73.9919950004)  \n",
       "4  (40.7646300002, -73.9661150001)  \n",
       "\n",
       "[5 rows x 29 columns]"
      ]
     },
     "execution_count": 4,
     "metadata": {},
     "output_type": "execute_result"
    }
   ],
   "source": [
    "data.head()"
   ]
  },
  {
   "cell_type": "code",
   "execution_count": 5,
   "id": "excess-network",
   "metadata": {
    "scrolled": false
   },
   "outputs": [
    {
     "name": "stdout",
     "output_type": "stream",
     "text": [
      "<class 'pandas.core.frame.DataFrame'>\n",
      "RangeIndex: 3319 entries, 0 to 3318\n",
      "Data columns (total 29 columns):\n",
      " #   Column                                       Non-Null Count  Dtype  \n",
      "---  ------                                       --------------  -----  \n",
      " 0   OBJECTID                                     3319 non-null   int64  \n",
      " 1   Borough                                      3319 non-null   int64  \n",
      " 2   Type                                         3319 non-null   object \n",
      " 3   Provider                                     3319 non-null   object \n",
      " 4   Name                                         3089 non-null   object \n",
      " 5   Location                                     3319 non-null   object \n",
      " 6   Latitude                                     3319 non-null   float64\n",
      " 7   Longitude                                    3319 non-null   float64\n",
      " 8   X                                            3319 non-null   float64\n",
      " 9   Y                                            3319 non-null   float64\n",
      " 10  Location_T                                   3319 non-null   object \n",
      " 11  Remarks                                      2771 non-null   object \n",
      " 12  City                                         3319 non-null   object \n",
      " 13  SSID                                         3319 non-null   object \n",
      " 14  SourceID                                     2257 non-null   object \n",
      " 15  Activated                                    3319 non-null   object \n",
      " 16  BoroCode                                     3319 non-null   int64  \n",
      " 17  Borough Name                                 3319 non-null   object \n",
      " 18  Neighborhood Tabulation Area Code (NTACODE)  3319 non-null   object \n",
      " 19  Neighborhood Tabulation Area (NTA)           3319 non-null   object \n",
      " 20  Council Distrcit                             3319 non-null   int64  \n",
      " 21  Postcode                                     3319 non-null   int64  \n",
      " 22  BoroCD                                       3319 non-null   int64  \n",
      " 23  Census Tract                                 3319 non-null   int64  \n",
      " 24  BCTCB2010                                    3319 non-null   int64  \n",
      " 25  BIN                                          3319 non-null   int64  \n",
      " 26  BBL                                          3319 non-null   int64  \n",
      " 27  DOITT_ID                                     3319 non-null   int64  \n",
      " 28  Location (Lat, Long)                         3319 non-null   object \n",
      "dtypes: float64(4), int64(11), object(14)\n",
      "memory usage: 752.1+ KB\n"
     ]
    }
   ],
   "source": [
    "data.info()"
   ]
  },
  {
   "cell_type": "markdown",
   "id": "indian-grace",
   "metadata": {},
   "source": [
    "### 1"
   ]
  },
  {
   "cell_type": "code",
   "execution_count": 6,
   "id": "wooden-amplifier",
   "metadata": {},
   "outputs": [
    {
     "data": {
      "text/plain": [
       "0                   SPECTRUM\n",
       "1                   SPECTRUM\n",
       "2           Transit Wireless\n",
       "3          Downtown Brooklyn\n",
       "4           Transit Wireless\n",
       "                ...         \n",
       "3314                SPECTRUM\n",
       "3315    LinkNYC - Citybridge\n",
       "3316    LinkNYC - Citybridge\n",
       "3317    LinkNYC - Citybridge\n",
       "3318    LinkNYC - Citybridge\n",
       "Name: Provider, Length: 3319, dtype: object"
      ]
     },
     "execution_count": 6,
     "metadata": {},
     "output_type": "execute_result"
    }
   ],
   "source": [
    "data.Provider"
   ]
  },
  {
   "cell_type": "code",
   "execution_count": 7,
   "id": "narrow-second",
   "metadata": {},
   "outputs": [
    {
     "data": {
      "text/plain": [
       "array(['SPECTRUM', 'Transit Wireless', 'Downtown Brooklyn', 'Harlem',\n",
       "       'BPL', 'ALTICEUSA', 'Fiberless', 'LinkNYC - Citybridge',\n",
       "       'Manhattan Down Alliance', 'AT&T', 'NYPL', 'NYCHA', 'Chelsea',\n",
       "       'QPL', 'City Tech', 'Spot On Networks', 'Partner'], dtype=object)"
      ]
     },
     "execution_count": 7,
     "metadata": {},
     "output_type": "execute_result"
    }
   ],
   "source": [
    "data.Provider.unique()"
   ]
  },
  {
   "cell_type": "code",
   "execution_count": 8,
   "id": "western-cassette",
   "metadata": {},
   "outputs": [
    {
     "name": "stdout",
     "output_type": "stream",
     "text": [
      "unique providers:  (17,)\n"
     ]
    }
   ],
   "source": [
    "#Answer1\n",
    "print('unique providers: ', data.Provider.unique().shape)"
   ]
  },
  {
   "cell_type": "markdown",
   "id": "second-animation",
   "metadata": {},
   "source": [
    "### 2."
   ]
  },
  {
   "cell_type": "code",
   "execution_count": 9,
   "id": "incorrect-affairs",
   "metadata": {},
   "outputs": [],
   "source": [
    "mask=data.City=='Bronx'"
   ]
  },
  {
   "cell_type": "code",
   "execution_count": 10,
   "id": "increased-undergraduate",
   "metadata": {},
   "outputs": [],
   "source": [
    "#data[mask][['Provider', 'City']]"
   ]
  },
  {
   "cell_type": "code",
   "execution_count": 11,
   "id": "hungry-sandwich",
   "metadata": {},
   "outputs": [
    {
     "data": {
      "text/plain": [
       "array(['ALTICEUSA', 'LinkNYC - Citybridge', 'NYPL', 'Transit Wireless',\n",
       "       'AT&T'], dtype=object)"
      ]
     },
     "execution_count": 11,
     "metadata": {},
     "output_type": "execute_result"
    }
   ],
   "source": [
    "data.Provider[mask].unique()"
   ]
  },
  {
   "cell_type": "code",
   "execution_count": 12,
   "id": "integrated-occasion",
   "metadata": {},
   "outputs": [
    {
     "name": "stdout",
     "output_type": "stream",
     "text": [
      "Second most WiFi hotspots in Bronx:  120\n"
     ]
    }
   ],
   "source": [
    "#Answer 2\n",
    "data.Provider[mask].value_counts();\n",
    "print('Second most WiFi hotspots in Bronx: ', data.Provider[mask].value_counts()[1])"
   ]
  },
  {
   "cell_type": "markdown",
   "id": "reasonable-testimony",
   "metadata": {},
   "source": [
    "### 3."
   ]
  },
  {
   "cell_type": "code",
   "execution_count": 13,
   "id": "grand-pierce",
   "metadata": {
    "scrolled": false
   },
   "outputs": [
    {
     "data": {
      "text/plain": [
       "Park Perimeter                  42\n",
       "Along Boardwalk and Beach       15\n",
       "300 Jay Street                  11\n",
       "333 Adams St.                    8\n",
       "110 Livingston St.               7\n",
       "North area off Richmond Terr     6\n",
       "Outdoor - Park Area              6\n",
       "Park Area                        5\n",
       "Along Promenade                  5\n",
       "490 Fulton St.                   5\n",
       "Name: Location, dtype: int64"
      ]
     },
     "execution_count": 13,
     "metadata": {},
     "output_type": "execute_result"
    }
   ],
   "source": [
    "data.Location.value_counts().head(10)"
   ]
  },
  {
   "cell_type": "code",
   "execution_count": 14,
   "id": "announced-replica",
   "metadata": {},
   "outputs": [
    {
     "name": "stdout",
     "output_type": "stream",
     "text": [
      "119\n"
     ]
    }
   ],
   "source": [
    "match=[]\n",
    "for i in data.Location:\n",
    "    match.append(bool(re.findall('Park *',i)))\n",
    "no_of_hotspot_park=match.count(True)\n",
    "print(no_of_hotspot_park)"
   ]
  },
  {
   "cell_type": "code",
   "execution_count": 15,
   "id": "progressive-creator",
   "metadata": {},
   "outputs": [
    {
     "name": "stdout",
     "output_type": "stream",
     "text": [
      "Fraction of WiFi hotspots in parks:  0.04\n"
     ]
    }
   ],
   "source": [
    "#Answer 3\n",
    "print('Fraction of WiFi hotspots in parks: ', '{:.2f}'.format(no_of_hotspot_park/data.Location.count()))"
   ]
  },
  {
   "cell_type": "markdown",
   "id": "stuffed-agreement",
   "metadata": {},
   "source": [
    "### 4. "
   ]
  },
  {
   "cell_type": "code",
   "execution_count": 16,
   "id": "prerequisite-drove",
   "metadata": {},
   "outputs": [
    {
     "data": {
      "text/plain": [
       "Outdoor Kiosk                          1867\n",
       "Outdoor                                 699\n",
       "Subway Station                          276\n",
       "Library                                 214\n",
       "Indoor                                  126\n",
       "Outdoor TWC Aerial                      121\n",
       "Indoor AP - North Maintenance Area        3\n",
       "Indoor AP - South Maintenance Area        3\n",
       "Indoor AP - North Management Office       2\n",
       "Indoor AP - South Management Office       2\n",
       "Name: Location_T, dtype: int64"
      ]
     },
     "execution_count": 16,
     "metadata": {},
     "output_type": "execute_result"
    }
   ],
   "source": [
    "data.Location_T.value_counts().head(10)"
   ]
  },
  {
   "cell_type": "code",
   "execution_count": 17,
   "id": "mental-salon",
   "metadata": {},
   "outputs": [
    {
     "data": {
      "text/plain": [
       "count     3319\n",
       "unique       3\n",
       "top       Free\n",
       "freq      2736\n",
       "Name: Type, dtype: object"
      ]
     },
     "execution_count": 17,
     "metadata": {},
     "output_type": "execute_result"
    }
   ],
   "source": [
    "data.Type.describe()"
   ]
  },
  {
   "cell_type": "markdown",
   "id": "driven-crown",
   "metadata": {},
   "source": [
    "#### including library"
   ]
  },
  {
   "cell_type": "code",
   "execution_count": 18,
   "id": "biological-georgia",
   "metadata": {},
   "outputs": [
    {
     "data": {
      "text/plain": [
       "Free            2736\n",
       "Limited Free     581\n",
       "Partner Site       2\n",
       "Name: Type, dtype: int64"
      ]
     },
     "execution_count": 18,
     "metadata": {},
     "output_type": "execute_result"
    }
   ],
   "source": [
    "data.Type.value_counts()"
   ]
  },
  {
   "cell_type": "markdown",
   "id": "present-patch",
   "metadata": {},
   "source": [
    "#### excluding library"
   ]
  },
  {
   "cell_type": "code",
   "execution_count": 19,
   "id": "russian-possession",
   "metadata": {},
   "outputs": [
    {
     "data": {
      "text/plain": [
       "Free            2522\n",
       "Limited Free     581\n",
       "Partner Site       2\n",
       "Name: Type, dtype: int64"
      ]
     },
     "execution_count": 19,
     "metadata": {},
     "output_type": "execute_result"
    }
   ],
   "source": [
    "data.Type[data.Location_T!='Library'].value_counts()"
   ]
  },
  {
   "cell_type": "code",
   "execution_count": 20,
   "id": "subject-andrew",
   "metadata": {},
   "outputs": [
    {
     "data": {
      "text/plain": [
       "3319"
      ]
     },
     "execution_count": 20,
     "metadata": {},
     "output_type": "execute_result"
    }
   ],
   "source": [
    "data.Type.count()"
   ]
  },
  {
   "cell_type": "markdown",
   "id": "waiting-marine",
   "metadata": {},
   "source": [
    "#### probability"
   ]
  },
  {
   "cell_type": "code",
   "execution_count": 21,
   "id": "fatal-spirit",
   "metadata": {},
   "outputs": [
    {
     "name": "stdout",
     "output_type": "stream",
     "text": [
      "p =  0.76\n"
     ]
    }
   ],
   "source": [
    "#Answer 4\n",
    "print('p = ', '{:.2f}'.format(data.Type[data.Location_T!='Library'].value_counts()[0]/data.Type.count()))"
   ]
  },
  {
   "cell_type": "markdown",
   "id": "genuine-guitar",
   "metadata": {},
   "source": [
    "### 5."
   ]
  },
  {
   "cell_type": "code",
   "execution_count": 22,
   "id": "above-dependence",
   "metadata": {},
   "outputs": [
    {
     "data": {
      "text/plain": [
       "count                      3319\n",
       "unique                      179\n",
       "top       Midtown-Midtown South\n",
       "freq                        160\n",
       "Name: Neighborhood Tabulation Area (NTA), dtype: object"
      ]
     },
     "execution_count": 22,
     "metadata": {},
     "output_type": "execute_result"
    }
   ],
   "source": [
    "data['Neighborhood Tabulation Area (NTA)'].describe()"
   ]
  },
  {
   "cell_type": "code",
   "execution_count": 23,
   "id": "according-vinyl",
   "metadata": {},
   "outputs": [],
   "source": [
    "mask=data['Neighborhood Tabulation Area (NTA)'].value_counts() > 30"
   ]
  },
  {
   "cell_type": "code",
   "execution_count": 24,
   "id": "suffering-conversation",
   "metadata": {},
   "outputs": [],
   "source": [
    "location_name=data['Neighborhood Tabulation Area (NTA)'].value_counts()[mask]"
   ]
  },
  {
   "cell_type": "code",
   "execution_count": 25,
   "id": "christian-majority",
   "metadata": {},
   "outputs": [
    {
     "data": {
      "text/plain": [
       "Midtown-Midtown South                               160\n",
       "Hudson Yards-Chelsea-Flatiron-Union Square          156\n",
       "Upper West Side                                     143\n",
       "DUMBO-Vinegar Hill-Downtown Brooklyn-Boerum Hill    125\n",
       "Turtle Bay-East Midtown                             111\n",
       "Central Harlem North-Polo Grounds                   101\n",
       "Murray Hill-Kips Bay                                 82\n",
       "Central Harlem South                                 69\n",
       "East Harlem North                                    65\n",
       "Hamilton Heights                                     63\n",
       "SoHo-TriBeCa-Civic Center-Little Italy               58\n",
       "East Village                                         58\n",
       "Astoria                                              54\n",
       "Upper East Side-Carnegie Hill                        54\n",
       "Hunters Point-Sunnyside-West Maspeth                 52\n",
       "Battery Park City-Lower Manhattan                    52\n",
       "Lincoln Square                                       52\n",
       "Lenox Hill-Roosevelt Island                          52\n",
       "Gramercy                                             51\n",
       "West Village                                         49\n",
       "Washington Heights South                             48\n",
       "Clinton                                              46\n",
       "Fort Greene                                          46\n",
       "Crown Heights North                                  44\n",
       "Morningside Heights                                  42\n",
       "Mott Haven-Port Morris                               41\n",
       "North Side-South Side                                40\n",
       "West Concourse                                       40\n",
       "Elmhurst                                             39\n",
       "Park Slope-Gowanus                                   35\n",
       "park-cemetery-etc-Bronx                              34\n",
       "Seagate-Coney Island                                 32\n",
       "Name: Neighborhood Tabulation Area (NTA), dtype: int64"
      ]
     },
     "execution_count": 25,
     "metadata": {},
     "output_type": "execute_result"
    }
   ],
   "source": [
    "location_name"
   ]
  },
  {
   "cell_type": "code",
   "execution_count": 26,
   "id": "heated-brave",
   "metadata": {},
   "outputs": [],
   "source": [
    "census=pd.read_csv('../Census_Demographics_at_the_Neighborhood_Tabulation_Area__NTA__level.csv')"
   ]
  },
  {
   "cell_type": "code",
   "execution_count": 27,
   "id": "conservative-drilling",
   "metadata": {},
   "outputs": [
    {
     "data": {
      "text/html": [
       "<div>\n",
       "<style scoped>\n",
       "    .dataframe tbody tr th:only-of-type {\n",
       "        vertical-align: middle;\n",
       "    }\n",
       "\n",
       "    .dataframe tbody tr th {\n",
       "        vertical-align: top;\n",
       "    }\n",
       "\n",
       "    .dataframe thead th {\n",
       "        text-align: right;\n",
       "    }\n",
       "</style>\n",
       "<table border=\"1\" class=\"dataframe\">\n",
       "  <thead>\n",
       "    <tr style=\"text-align: right;\">\n",
       "      <th></th>\n",
       "      <th>Geographic Area - Borough</th>\n",
       "      <th>Geographic Area - 2010 Census FIPS County Code</th>\n",
       "      <th>Geographic Area - Neighborhood Tabulation Area (NTA)* Code</th>\n",
       "      <th>Geographic Area - Neighborhood Tabulation Area (NTA)* Name</th>\n",
       "      <th>Total Population 2000 Number</th>\n",
       "      <th>Total Population 2010 Number</th>\n",
       "      <th>Total Population Change 2000-2010 Number</th>\n",
       "      <th>Total Population Change 2000-2010 Percent</th>\n",
       "    </tr>\n",
       "  </thead>\n",
       "  <tbody>\n",
       "    <tr>\n",
       "      <th>0</th>\n",
       "      <td>Bronx</td>\n",
       "      <td>5.0</td>\n",
       "      <td>BX01</td>\n",
       "      <td>Claremont-Bathgate</td>\n",
       "      <td>28149.0</td>\n",
       "      <td>31078.0</td>\n",
       "      <td>2929.0</td>\n",
       "      <td>10.4</td>\n",
       "    </tr>\n",
       "    <tr>\n",
       "      <th>1</th>\n",
       "      <td>Bronx</td>\n",
       "      <td>5.0</td>\n",
       "      <td>BX03</td>\n",
       "      <td>Eastchester-Edenwald-Baychester</td>\n",
       "      <td>35422.0</td>\n",
       "      <td>34517.0</td>\n",
       "      <td>-905.0</td>\n",
       "      <td>-2.6</td>\n",
       "    </tr>\n",
       "    <tr>\n",
       "      <th>2</th>\n",
       "      <td>Bronx</td>\n",
       "      <td>5.0</td>\n",
       "      <td>BX05</td>\n",
       "      <td>Bedford Park-Fordham North</td>\n",
       "      <td>55329.0</td>\n",
       "      <td>54415.0</td>\n",
       "      <td>-914.0</td>\n",
       "      <td>-1.7</td>\n",
       "    </tr>\n",
       "    <tr>\n",
       "      <th>3</th>\n",
       "      <td>Bronx</td>\n",
       "      <td>5.0</td>\n",
       "      <td>BX06</td>\n",
       "      <td>Belmont</td>\n",
       "      <td>25967.0</td>\n",
       "      <td>27378.0</td>\n",
       "      <td>1411.0</td>\n",
       "      <td>5.4</td>\n",
       "    </tr>\n",
       "    <tr>\n",
       "      <th>4</th>\n",
       "      <td>Bronx</td>\n",
       "      <td>5.0</td>\n",
       "      <td>BX07</td>\n",
       "      <td>Bronxdale</td>\n",
       "      <td>34309.0</td>\n",
       "      <td>35538.0</td>\n",
       "      <td>1229.0</td>\n",
       "      <td>3.6</td>\n",
       "    </tr>\n",
       "  </tbody>\n",
       "</table>\n",
       "</div>"
      ],
      "text/plain": [
       "  Geographic Area - Borough  Geographic Area - 2010 Census FIPS County Code  \\\n",
       "0                     Bronx                                             5.0   \n",
       "1                     Bronx                                             5.0   \n",
       "2                     Bronx                                             5.0   \n",
       "3                     Bronx                                             5.0   \n",
       "4                     Bronx                                             5.0   \n",
       "\n",
       "  Geographic Area - Neighborhood Tabulation Area (NTA)* Code  \\\n",
       "0                                               BX01           \n",
       "1                                               BX03           \n",
       "2                                               BX05           \n",
       "3                                               BX06           \n",
       "4                                               BX07           \n",
       "\n",
       "  Geographic Area - Neighborhood Tabulation Area (NTA)* Name  \\\n",
       "0                                 Claremont-Bathgate           \n",
       "1                    Eastchester-Edenwald-Baychester           \n",
       "2                         Bedford Park-Fordham North           \n",
       "3                                            Belmont           \n",
       "4                                          Bronxdale           \n",
       "\n",
       "   Total Population 2000 Number  Total Population 2010 Number  \\\n",
       "0                       28149.0                       31078.0   \n",
       "1                       35422.0                       34517.0   \n",
       "2                       55329.0                       54415.0   \n",
       "3                       25967.0                       27378.0   \n",
       "4                       34309.0                       35538.0   \n",
       "\n",
       "   Total Population Change 2000-2010 Number  \\\n",
       "0                                    2929.0   \n",
       "1                                    -905.0   \n",
       "2                                    -914.0   \n",
       "3                                    1411.0   \n",
       "4                                    1229.0   \n",
       "\n",
       "   Total Population Change 2000-2010 Percent  \n",
       "0                                       10.4  \n",
       "1                                       -2.6  \n",
       "2                                       -1.7  \n",
       "3                                        5.4  \n",
       "4                                        3.6  "
      ]
     },
     "execution_count": 27,
     "metadata": {},
     "output_type": "execute_result"
    }
   ],
   "source": [
    "census.head()"
   ]
  },
  {
   "cell_type": "code",
   "execution_count": 28,
   "id": "labeled-olympus",
   "metadata": {},
   "outputs": [
    {
     "data": {
      "text/html": [
       "<div>\n",
       "<style scoped>\n",
       "    .dataframe tbody tr th:only-of-type {\n",
       "        vertical-align: middle;\n",
       "    }\n",
       "\n",
       "    .dataframe tbody tr th {\n",
       "        vertical-align: top;\n",
       "    }\n",
       "\n",
       "    .dataframe thead th {\n",
       "        text-align: right;\n",
       "    }\n",
       "</style>\n",
       "<table border=\"1\" class=\"dataframe\">\n",
       "  <thead>\n",
       "    <tr style=\"text-align: right;\">\n",
       "      <th></th>\n",
       "      <th>Geographic Area - Neighborhood Tabulation Area (NTA)* Name</th>\n",
       "      <th>Total Population 2000 Number</th>\n",
       "    </tr>\n",
       "  </thead>\n",
       "  <tbody>\n",
       "    <tr>\n",
       "      <th>0</th>\n",
       "      <td>Claremont-Bathgate</td>\n",
       "      <td>28149.0</td>\n",
       "    </tr>\n",
       "    <tr>\n",
       "      <th>1</th>\n",
       "      <td>Eastchester-Edenwald-Baychester</td>\n",
       "      <td>35422.0</td>\n",
       "    </tr>\n",
       "    <tr>\n",
       "      <th>2</th>\n",
       "      <td>Bedford Park-Fordham North</td>\n",
       "      <td>55329.0</td>\n",
       "    </tr>\n",
       "    <tr>\n",
       "      <th>3</th>\n",
       "      <td>Belmont</td>\n",
       "      <td>25967.0</td>\n",
       "    </tr>\n",
       "    <tr>\n",
       "      <th>4</th>\n",
       "      <td>Bronxdale</td>\n",
       "      <td>34309.0</td>\n",
       "    </tr>\n",
       "    <tr>\n",
       "      <th>...</th>\n",
       "      <td>...</td>\n",
       "      <td>...</td>\n",
       "    </tr>\n",
       "    <tr>\n",
       "      <th>192</th>\n",
       "      <td>Arden Heights</td>\n",
       "      <td>24996.0</td>\n",
       "    </tr>\n",
       "    <tr>\n",
       "      <th>193</th>\n",
       "      <td>Great Kills</td>\n",
       "      <td>41680.0</td>\n",
       "    </tr>\n",
       "    <tr>\n",
       "      <th>194</th>\n",
       "      <td>park-cemetery-etc-Staten Island</td>\n",
       "      <td>7.0</td>\n",
       "    </tr>\n",
       "    <tr>\n",
       "      <th>195</th>\n",
       "      <td>NaN</td>\n",
       "      <td>NaN</td>\n",
       "    </tr>\n",
       "    <tr>\n",
       "      <th>196</th>\n",
       "      <td>NaN</td>\n",
       "      <td>NaN</td>\n",
       "    </tr>\n",
       "  </tbody>\n",
       "</table>\n",
       "<p>197 rows × 2 columns</p>\n",
       "</div>"
      ],
      "text/plain": [
       "    Geographic Area - Neighborhood Tabulation Area (NTA)* Name  \\\n",
       "0                                   Claremont-Bathgate           \n",
       "1                      Eastchester-Edenwald-Baychester           \n",
       "2                           Bedford Park-Fordham North           \n",
       "3                                              Belmont           \n",
       "4                                            Bronxdale           \n",
       "..                                                 ...           \n",
       "192                                      Arden Heights           \n",
       "193                                        Great Kills           \n",
       "194                    park-cemetery-etc-Staten Island           \n",
       "195                                                NaN           \n",
       "196                                                NaN           \n",
       "\n",
       "     Total Population 2000 Number  \n",
       "0                         28149.0  \n",
       "1                         35422.0  \n",
       "2                         55329.0  \n",
       "3                         25967.0  \n",
       "4                         34309.0  \n",
       "..                            ...  \n",
       "192                       24996.0  \n",
       "193                       41680.0  \n",
       "194                           7.0  \n",
       "195                           NaN  \n",
       "196                           NaN  \n",
       "\n",
       "[197 rows x 2 columns]"
      ]
     },
     "execution_count": 28,
     "metadata": {},
     "output_type": "execute_result"
    }
   ],
   "source": [
    "census[['Geographic Area - Neighborhood Tabulation Area (NTA)* Name','Total Population 2000 Number']]"
   ]
  },
  {
   "cell_type": "code",
   "execution_count": 29,
   "id": "detected-threat",
   "metadata": {},
   "outputs": [
    {
     "data": {
      "text/html": [
       "<div>\n",
       "<style scoped>\n",
       "    .dataframe tbody tr th:only-of-type {\n",
       "        vertical-align: middle;\n",
       "    }\n",
       "\n",
       "    .dataframe tbody tr th {\n",
       "        vertical-align: top;\n",
       "    }\n",
       "\n",
       "    .dataframe thead th {\n",
       "        text-align: right;\n",
       "    }\n",
       "</style>\n",
       "<table border=\"1\" class=\"dataframe\">\n",
       "  <thead>\n",
       "    <tr style=\"text-align: right;\">\n",
       "      <th></th>\n",
       "      <th>Geographic Area - Borough</th>\n",
       "      <th>Geographic Area - 2010 Census FIPS County Code</th>\n",
       "      <th>Geographic Area - Neighborhood Tabulation Area (NTA)* Code</th>\n",
       "      <th>Geographic Area - Neighborhood Tabulation Area (NTA)* Name</th>\n",
       "      <th>Total Population 2000 Number</th>\n",
       "      <th>Total Population 2010 Number</th>\n",
       "      <th>Total Population Change 2000-2010 Number</th>\n",
       "      <th>Total Population Change 2000-2010 Percent</th>\n",
       "    </tr>\n",
       "  </thead>\n",
       "  <tbody>\n",
       "    <tr>\n",
       "      <th>170</th>\n",
       "      <td>Queens</td>\n",
       "      <td>81.0</td>\n",
       "      <td>QN70</td>\n",
       "      <td>Astoria</td>\n",
       "      <td>89122.0</td>\n",
       "      <td>78793.0</td>\n",
       "      <td>-10329.0</td>\n",
       "      <td>-11.6</td>\n",
       "    </tr>\n",
       "  </tbody>\n",
       "</table>\n",
       "</div>"
      ],
      "text/plain": [
       "    Geographic Area - Borough  Geographic Area - 2010 Census FIPS County Code  \\\n",
       "170                    Queens                                            81.0   \n",
       "\n",
       "    Geographic Area - Neighborhood Tabulation Area (NTA)* Code  \\\n",
       "170                                               QN70           \n",
       "\n",
       "    Geographic Area - Neighborhood Tabulation Area (NTA)* Name  \\\n",
       "170                                            Astoria           \n",
       "\n",
       "     Total Population 2000 Number  Total Population 2010 Number  \\\n",
       "170                       89122.0                       78793.0   \n",
       "\n",
       "     Total Population Change 2000-2010 Number  \\\n",
       "170                                  -10329.0   \n",
       "\n",
       "     Total Population Change 2000-2010 Percent  \n",
       "170                                      -11.6  "
      ]
     },
     "execution_count": 29,
     "metadata": {},
     "output_type": "execute_result"
    }
   ],
   "source": [
    "census[census['Geographic Area - Neighborhood Tabulation Area (NTA)* Name']== 'Astoria']"
   ]
  },
  {
   "cell_type": "markdown",
   "id": "illegal-fitting",
   "metadata": {},
   "source": [
    "### 6."
   ]
  },
  {
   "cell_type": "code",
   "execution_count": 30,
   "id": "mineral-connectivity",
   "metadata": {},
   "outputs": [
    {
     "data": {
      "text/plain": [
       "count           1822\n",
       "unique           415\n",
       "top       07/19/2016\n",
       "freq              23\n",
       "Name: Activated, dtype: object"
      ]
     },
     "execution_count": 30,
     "metadata": {},
     "output_type": "execute_result"
    }
   ],
   "source": [
    "numerator=data.Activated[data['Activated']!='09/09/9999'].describe()\n",
    "numerator"
   ]
  },
  {
   "cell_type": "code",
   "execution_count": 31,
   "id": "seven-recovery",
   "metadata": {},
   "outputs": [
    {
     "data": {
      "text/plain": [
       "07/19/2016    23\n",
       "07/21/2016    19\n",
       "07/20/2017    13\n",
       "07/20/2016    11\n",
       "07/19/2017     7\n",
       "07/19/2018     5\n",
       "07/21/2017     3\n",
       "07/18/2017     2\n",
       "Name: Activated, dtype: int64"
      ]
     },
     "execution_count": 31,
     "metadata": {},
     "output_type": "execute_result"
    }
   ],
   "source": [
    "data.Activated[(data.Activated > '07/18/2016') & (data.Activated < '07/24/2016')].value_counts()"
   ]
  },
  {
   "cell_type": "markdown",
   "id": "invalid-reader",
   "metadata": {},
   "source": [
    "#### Fraction of activations took place in Tuesday"
   ]
  },
  {
   "cell_type": "code",
   "execution_count": 32,
   "id": "level-portrait",
   "metadata": {},
   "outputs": [
    {
     "name": "stdout",
     "output_type": "stream",
     "text": [
      "Fraction =  0.38\n"
     ]
    }
   ],
   "source": [
    "#Answer 6\n",
    "print('Fraction = ', '{:.2f}'.format(numerator[3]/60))"
   ]
  },
  {
   "cell_type": "code",
   "execution_count": null,
   "id": "transsexual-mozambique",
   "metadata": {},
   "outputs": [],
   "source": []
  }
 ],
 "metadata": {
  "kernelspec": {
   "display_name": "Python 3",
   "language": "python",
   "name": "python3"
  },
  "language_info": {
   "codemirror_mode": {
    "name": "ipython",
    "version": 3
   },
   "file_extension": ".py",
   "mimetype": "text/x-python",
   "name": "python",
   "nbconvert_exporter": "python",
   "pygments_lexer": "ipython3",
   "version": "3.7.9"
  }
 },
 "nbformat": 4,
 "nbformat_minor": 5
}
