{
 "cells": [
  {
   "cell_type": "code",
   "execution_count": 1,
   "id": "unlike-living",
   "metadata": {},
   "outputs": [],
   "source": [
    "from itertools import permutations, combinations"
   ]
  },
  {
   "cell_type": "code",
   "execution_count": 25,
   "id": "incorporate-botswana",
   "metadata": {},
   "outputs": [],
   "source": [
    "perm = permutations([1, 1, 3, 4])\n",
    "comb = combinations([1, 2, 3],2)\n",
    " "
   ]
  },
  {
   "cell_type": "code",
   "execution_count": 26,
   "id": "charitable-packing",
   "metadata": {},
   "outputs": [],
   "source": [
    "d1=[]\n",
    "for i in list(perm):\n",
    "    d1.append(i)"
   ]
  },
  {
   "cell_type": "code",
   "execution_count": 32,
   "id": "normal-maker",
   "metadata": {},
   "outputs": [
    {
     "data": {
      "text/plain": [
       "{(1, 1, 3, 4),\n",
       " (1, 1, 4, 3),\n",
       " (1, 3, 1, 4),\n",
       " (1, 3, 4, 1),\n",
       " (1, 4, 1, 3),\n",
       " (1, 4, 3, 1),\n",
       " (3, 1, 1, 4),\n",
       " (3, 1, 4, 1),\n",
       " (3, 4, 1, 1),\n",
       " (4, 1, 1, 3),\n",
       " (4, 1, 3, 1),\n",
       " (4, 3, 1, 1)}"
      ]
     },
     "execution_count": 32,
     "metadata": {},
     "output_type": "execute_result"
    }
   ],
   "source": [
    "set(d1)"
   ]
  },
  {
   "cell_type": "code",
   "execution_count": 33,
   "id": "accomplished-potato",
   "metadata": {},
   "outputs": [],
   "source": [
    "d2=[9,8,8,7,6,6,7,6,5,4,4,4]"
   ]
  },
  {
   "cell_type": "code",
   "execution_count": 35,
   "id": "apparent-prayer",
   "metadata": {},
   "outputs": [
    {
     "data": {
      "text/plain": [
       "1.6244657241348273"
      ]
     },
     "execution_count": 35,
     "metadata": {},
     "output_type": "execute_result"
    }
   ],
   "source": [
    "import numpy as np\n",
    "np.std(d2)"
   ]
  },
  {
   "cell_type": "code",
   "execution_count": 61,
   "id": "particular-trading",
   "metadata": {},
   "outputs": [],
   "source": [
    "d1=[3,3,4,1]"
   ]
  },
  {
   "cell_type": "code",
   "execution_count": 60,
   "id": "waiting-coalition",
   "metadata": {},
   "outputs": [
    {
     "name": "stdout",
     "output_type": "stream",
     "text": [
      "1\n"
     ]
    }
   ],
   "source": [
    "sum_no=1\n",
    "for i in range(len(d1)):\n",
    "    if d1[i]<=d1[i-1]:\n",
    "        sum_no = 1\n",
    "    else:\n",
    "        sum_no +=1\n",
    "        \n",
    "print(sum_no)"
   ]
  },
  {
   "cell_type": "code",
   "execution_count": 76,
   "id": "affected-bowling",
   "metadata": {},
   "outputs": [],
   "source": [
    "import itertools"
   ]
  },
  {
   "cell_type": "code",
   "execution_count": 78,
   "id": "olive-snapshot",
   "metadata": {},
   "outputs": [],
   "source": [
    "Heights= np.array([1,1,3,4])\n",
    "ram= list(itertools.permutations(Heights))\n",
    "\n",
    "distances= np.zeros((len(ram),len(Heights)),dtype=float)\n",
    "sums= np.zeros(len(ram))\n"
   ]
  },
  {
   "cell_type": "code",
   "execution_count": 79,
   "id": "piano-reality",
   "metadata": {},
   "outputs": [],
   "source": [
    "for l in range(len(ram)):    \n",
    "    heights2= ram[l]\n",
    "    #Grid_positions= np.zeros(len(Heights)+1)\n",
    "    \n",
    "\n",
    "    for i in range (len(heights2)):\n",
    "        reference= heights2[i]\n",
    "        #print(reference)\n",
    "        aa= np.array([reference])\n",
    "        Heights_new= np.concatenate([aa,heights2]) #setting first position equal to the taken height so that it stops at zero too\n",
    "    \n",
    "        distance= 1\n",
    "       \n",
    "        for k in range(i+1):\n",
    "            #print(i-k)\n",
    "        \n",
    "            if Heights_new[i-k] < reference:\n",
    "                distance= distance+1\n",
    "            else:\n",
    "                break\n",
    "            \n",
    "        #print(distance)\n",
    "        distances[l][i]= distance\n",
    "\n",
    "temp= np.zeros(len(distances))\n",
    "for x in range(len(distances)):\n",
    "    temp[x]= distances[x][0]+distances[x][1]+distances[x][2]+distances[x][3]\n",
    "    \n",
    "ans= np.mean(temp)"
   ]
  },
  {
   "cell_type": "code",
   "execution_count": 80,
   "id": "verbal-report",
   "metadata": {},
   "outputs": [
    {
     "data": {
      "text/plain": [
       "6.166666666666667"
      ]
     },
     "execution_count": 80,
     "metadata": {},
     "output_type": "execute_result"
    }
   ],
   "source": [
    "ans"
   ]
  },
  {
   "cell_type": "code",
   "execution_count": null,
   "id": "answering-capture",
   "metadata": {},
   "outputs": [],
   "source": []
  }
 ],
 "metadata": {
  "kernelspec": {
   "display_name": "Python 3",
   "language": "python",
   "name": "python3"
  },
  "language_info": {
   "codemirror_mode": {
    "name": "ipython",
    "version": 3
   },
   "file_extension": ".py",
   "mimetype": "text/x-python",
   "name": "python",
   "nbconvert_exporter": "python",
   "pygments_lexer": "ipython3",
   "version": "3.7.9"
  }
 },
 "nbformat": 4,
 "nbformat_minor": 5
}
